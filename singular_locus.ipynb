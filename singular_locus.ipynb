{
 "cells": [
  {
   "cell_type": "markdown",
   "metadata": {},
   "source": [
    "# Singular locus of plane curves over finite fields\n",
    "\n",
    "Our main goal is calculate the singular locus of plane curves over finite fields.\n",
    "\n",
    "#### Caution\n",
    "This ipynb project needs SageMath (at least 9.1) kernel to run.\n",
    "\n",
    "#### Author\n",
    "Doyo Yutaro  \n",
    "Yokohama National University Graduate School of Environment and Information Science\n",
    "\n",
    "<!--- below are mathjax newcommands --->\n",
    "$\\newcommand{\\ff}{\\mathbb{F}}$\n",
    "$\\newcommand{\\sing}{\\mathrm{Sing}\\,}$"
   ]
  },
  {
   "cell_type": "markdown",
   "metadata": {},
   "source": [
    "## singular_locus()\n",
    " \n",
    "return the singular locus of a curve over the algebraically closed field of the domain of argument curve  \n",
    " \n",
    "**Input:** a polynomial $f \\in k[x,y]$ (where $k = \\ff_q$ is a finite field)  \n",
    "**Output:** the singular locus $\\sing V(f)$ and the extension field of $k$ in which all points of the singular locus are rational."
   ]
  },
  {
   "cell_type": "code",
   "execution_count": 4,
   "metadata": {},
   "outputs": [],
   "source": [
    "def singular_locus(f):\n",
    "    if not f.nvariables() == 2:\n",
    "        raise ValueError(\"argument must be a polynomial of two variable\")\n",
    "    \n",
    "    L = f.base_ring()\n",
    "    x, y = f.variables()\n",
    "    q = L.order()\n",
    "    \n",
    "    I = ideal(f, diff(f, x), diff(f, y))\n",
    "    G = I.groebner_basis()\n",
    "    g = [g for g in G if g.nvariables() == 1][0]\n",
    "    H = list(factor(g))\n",
    "    mod = []\n",
    "\n",
    "    Y, i, exdeg = [], 0, 1\n",
    "    for h in H:\n",
    "        h_ = h[0].change_ring(L) # extend base field\n",
    "        y = h_.variables()[0]\n",
    "        deg = h_.degree()\n",
    "        if deg == 1:\n",
    "            Y.append(- h_.subs({y: 0}))\n",
    "        else:\n",
    "            if not gcd(exdeg, h_.degree()) == 1:\n",
    "                h_ = list(h_.factor())[0]\n",
    "            h_ = h_.univariate_polynomial()\n",
    "            L = L.extension(h_, 'a_' + str(i))\n",
    "            mod.append(L.modulus())\n",
    "            if isinstance(L.gen(), tuple):\n",
    "                a = L.gen()[0]\n",
    "            else:\n",
    "                a = L.gen()\n",
    "            i += 1\n",
    "            Y.extend(a**q**j for j in range(deg)) #ここ違うよ！\n",
    "            q = L.order()\n",
    "            exdeg *= deg\n",
    "            \n",
    "    sing = []\n",
    "    G = [g.change_ring(L) for g in G[:-1]]\n",
    "    x,y = G[0].variables()\n",
    "\n",
    "    for p in Y:\n",
    "        g = ideal(g_.subs({y: p}) for g_ in G).groebner_basis()[0].change_ring(L).univariate_polynomial()\n",
    "        if g.degree() == 1:\n",
    "            sing.append((- g.subs({x: 0}), p))\n",
    "            continue\n",
    "        else:\n",
    "            x = g.variables()[0]\n",
    "            H = list(factor(g))\n",
    "            for h in H:\n",
    "                h = h[0]\n",
    "                x = h.variables()[0]\n",
    "                deg = h.degree()\n",
    "                if deg == 1:\n",
    "                    sing.append((- h.subs({x: 0}), p))\n",
    "                else:\n",
    "                    if not gcd(exdeg, h.degree()) == 1:\n",
    "                        h = list(h.factor())[0][0]\n",
    "                    L = L.extension(h, 'a_' + str(i))\n",
    "                    mod.append(L.modulus())\n",
    "                    if isinstance(L.gen(), tuple):\n",
    "                        a = L.gen()[0]\n",
    "                    else:\n",
    "                        a = L.gen()\n",
    "                    i += 1\n",
    "                    sing.extend((a**q**i, p) for i in range(deg))\n",
    "                    q = L.order()\n",
    "                    exdeg *= deg\n",
    "    \n",
    "    return sing, mod"
   ]
  },
  {
   "cell_type": "markdown",
   "metadata": {},
   "source": [
    "## test cell\n",
    "\n",
    "Let $K = \\ff_5$, $R = K[x, y]$ and set lex order where $x > y$. Now calculate the singular locus of $f = (x^3 - y^2)(x - 2)$."
   ]
  },
  {
   "cell_type": "code",
   "execution_count": 6,
   "metadata": {},
   "outputs": [
    {
     "data": {
      "text/plain": [
       "([(0, 0), (2, a_0), (2, 4*a_0)], [x^2 + 2])"
      ]
     },
     "execution_count": 6,
     "metadata": {},
     "output_type": "execute_result"
    }
   ],
   "source": [
    "K = GF(5)\n",
    "R.<x, y> = PolynomialRing(K, 2, order=\"lex\")\n",
    "f = (x^3 - y^2)*(x - 2)\n",
    "singular_locus(f)"
   ]
  },
  {
   "cell_type": "markdown",
   "metadata": {},
   "source": [
    "Next we consider $f = x^4y^2 + 2x^4 + 2y^5 + 2y$ which needs to extend the base field twice in a calculation.  "
   ]
  },
  {
   "cell_type": "code",
   "execution_count": 7,
   "metadata": {},
   "outputs": [
    {
     "data": {
      "text/plain": [
       "([(a_1, a_0),\n",
       "  (3*a_1, a_0),\n",
       "  (4*a_1, a_0),\n",
       "  (2*a_1, a_0),\n",
       "  (4*a_0*a_1, 4*a_0),\n",
       "  (3*a_0*a_1, 4*a_0),\n",
       "  (2*a_0*a_1, 4*a_0),\n",
       "  (a_0*a_1, 4*a_0)],\n",
       " [x^2 + 2, a_1^4 + 2*a_0])"
      ]
     },
     "execution_count": 7,
     "metadata": {},
     "output_type": "execute_result"
    }
   ],
   "source": [
    "K = GF(5)\n",
    "R.<x, y> = PolynomialRing(K, 2, order=\"lex\")\n",
    "f = x^4*y^2 + 2*x^4 + 2*y^5 + 2*y\n",
    "singular_locus(f)"
   ]
  },
  {
   "cell_type": "markdown",
   "metadata": {},
   "source": [
    "## check cell"
   ]
  },
  {
   "cell_type": "code",
   "execution_count": null,
   "metadata": {},
   "outputs": [],
   "source": [
    "'''\n",
    "    check procedure\n",
    "'''\n",
    "\n",
    "K = GF(5)\n",
    "R.<x, y> = PolynomialRing(K, 2, order=\"lex\")\n",
    "f = (x^3 - y^2)*(x - 2)\n",
    "I = ideal(f, diff(f, x), diff(f, y))\n",
    "G = I.groebner_basis()\n",
    "g = G[-1]\n",
    "\n",
    "H = list(factor(g))\n",
    "h = H[0][0]\n",
    "Y = []\n",
    "\n",
    "L = K\n",
    "h = H[0][0].change_ring(L)\n",
    "y = h.variables()\n",
    "# H[0][0] = y\n",
    "# H[0][0].degree == 1\n",
    "\n",
    "\n",
    "# Y.append(- H[0][0].subs({y: 0})) \n",
    "\n",
    "# # H[1][0] = y^2 + 2\n",
    "# # H[1][0].degree == 2\n",
    "# S.<z> = K[]\n",
    "# L = K.extension(H[1][0].subs({y: z}), 'a')\n",
    "# a = L.gen()\n",
    "# Y.extend(a**5**i for i in range(2))\n",
    "\n",
    "# # Y = [0, a, 4*a]\n",
    "\n",
    "# sing = []\n",
    "# G_ = [g.change_ring(L) for g in G[:-1]]\n",
    "# x,y = G_[0].variables()\n",
    "\n"
   ]
  }
 ],
 "metadata": {
  "kernelspec": {
   "display_name": "SageMath 9.1",
   "language": "sage",
   "name": "sagemath"
  },
  "language_info": {
   "codemirror_mode": {
    "name": "ipython",
    "version": 3
   },
   "file_extension": ".py",
   "mimetype": "text/x-python",
   "name": "python",
   "nbconvert_exporter": "python",
   "pygments_lexer": "ipython3",
   "version": "3.7.3"
  }
 },
 "nbformat": 4,
 "nbformat_minor": 2
}
